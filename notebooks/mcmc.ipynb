{
 "cells": [
  {
   "attachments": {},
   "cell_type": "markdown",
   "metadata": {
    "colab_type": "text",
    "id": "view-in-github"
   },
   "source": [
    "<a href=\"https://colab.research.google.com/github/shibukawar/stein-importance-sampling-qa/blob/feature%2Fstein-importance-sampling/notebook/example_stein_importance_sampling.ipynb\" target=\"_parent\"><img src=\"https://colab.research.google.com/assets/colab-badge.svg\" alt=\"Open In Colab\"/></a>"
   ]
  },
  {
   "attachments": {},
   "cell_type": "markdown",
   "metadata": {
    "id": "_hRRwNzC3uNt"
   },
   "source": [
    "# Experiments on free energy and magnetization"
   ]
  },
  {
   "cell_type": "code",
   "execution_count": null,
   "metadata": {},
   "outputs": [],
   "source": [
    "import os\n",
    "os.chdir('../')"
   ]
  },
  {
   "cell_type": "code",
   "execution_count": null,
   "metadata": {
    "id": "kAQP36mEXjDM"
   },
   "outputs": [],
   "source": [
    "import os\n",
    "\n",
    "import numpy as np\n",
    "\n",
    "from stein.energy import create_hamiltonian\n",
    "from stein.util import pdump, read_from_file\n",
    "from collections import defaultdict"
   ]
  },
  {
   "cell_type": "code",
   "execution_count": null,
   "metadata": {
    "tags": [
     "parameters"
    ]
   },
   "outputs": [],
   "source": [
    "PROBLEM = \"GSD_8\""
   ]
  },
  {
   "cell_type": "code",
   "execution_count": null,
   "metadata": {},
   "outputs": [],
   "source": [
    "PROBLEM_DIR_PATH = f\"./problems/{PROBLEM}/\"\n",
    "\n",
    "J, h = read_from_file(PROBLEM_DIR_PATH)\n",
    "hamiltonian = create_hamiltonian(J, h)"
   ]
  },
  {
   "attachments": {},
   "cell_type": "markdown",
   "metadata": {
    "id": "bNRNsmxfD-9_"
   },
   "source": [
    "# Define a target distribution"
   ]
  },
  {
   "cell_type": "code",
   "execution_count": null,
   "metadata": {},
   "outputs": [],
   "source": [
    "def boltzmann_factor(x, hamiltonian, beta):\n",
    "    s = hamiltonian(x)\n",
    "    return np.exp(-beta * s)"
   ]
  },
  {
   "cell_type": "code",
   "execution_count": null,
   "metadata": {},
   "outputs": [],
   "source": [
    "def mh(dim=16, beta=0.1, N=10000):\n",
    "    accepted_samples = []\n",
    "    x = 2 * np.random.randint(2, size=dim) - 1\n",
    "    for _ in range(N):\n",
    "        y = 2 * np.random.randint(2, size=dim) - 1\n",
    "        alpha = boltzmann_factor(y, hamiltonian=hamiltonian, beta=beta) / boltzmann_factor(x, hamiltonian=hamiltonian, beta=beta)\n",
    "        a = np.random.uniform(0, 1)\n",
    "        if a < alpha:\n",
    "            accepted_samples.append(y)\n",
    "            x = y\n",
    "        else:\n",
    "            accepted_samples.append(x)\n",
    "    return accepted_samples\n",
    "\n",
    "dim = 16\n",
    "N = 10000\n",
    "num = 2000\n",
    "ene_result_2000, u4_result_2000, sus_result_2000 = [], [], []\n",
    "samples_dict = defaultdict(list)\n",
    "for beta in [0.1, 0.2, 0.3, 0.4, 0.5, 0.6, 0.7, 0.8, 0.9, 1.0]:\n",
    "    # print(beta)\n",
    "    free_energy_list_2000, u4_list_2000, susceptibility_list_2000 = [], [], []\n",
    "    for _ in range(5):\n",
    "        accepted_samples = mh(dim=dim, beta=beta, N=N)\n",
    "        samples_dict[beta].append(accepted_samples)\n",
    "        n = len(accepted_samples)\n",
    "        free_energy, susceptibility = 0, 0\n",
    "        m2, m4 = 0, 0\n",
    "        num = 2000\n",
    "        for x in accepted_samples[n-num:]:\n",
    "            m = sum(x)\n",
    "            free_energy += hamiltonian(x)\n",
    "            m2 += m ** 2\n",
    "            m4 += m ** 4\n",
    "            susceptibility += m ** 2 * beta\n",
    "        free_energy /= num\n",
    "        susceptibility /= num\n",
    "        m2 /= num\n",
    "        m4 /= num\n",
    "        u4 = 1 - m4 / (3 * m2**2)\n",
    "        free_energy_list_2000.append(free_energy)\n",
    "        u4_list_2000.append(u4)\n",
    "        susceptibility_list_2000.append(susceptibility)\n",
    "    ene_result_2000.append(free_energy_list_2000)\n",
    "    u4_result_2000.append(u4_list_2000)\n",
    "    sus_result_2000.append(susceptibility_list_2000)\n",
    "ene_result_2000 = np.array(ene_result_2000)\n",
    "u4_result_2000 = np.array(u4_result_2000)\n",
    "sus_result_2000 = np.array(sus_result_2000)"
   ]
  },
  {
   "cell_type": "code",
   "execution_count": null,
   "metadata": {},
   "outputs": [],
   "source": [
    "result_dict = {}\n",
    "result_dict['energy'] = ene_result_2000\n",
    "result_dict['u4'] = u4_result_2000\n",
    "result_dict['sus'] = sus_result_2000\n",
    "path = os.path.join(PROBLEM_DIR_PATH, \"mcmc_2000.pickle.gz2\")\n",
    "pdump(path, result_dict)"
   ]
  },
  {
   "cell_type": "code",
   "execution_count": null,
   "metadata": {},
   "outputs": [],
   "source": []
  }
 ],
 "metadata": {
  "colab": {
   "authorship_tag": "ABX9TyPJUCLXegTIt3GI+mwwFcew",
   "background_execution": "on",
   "include_colab_link": true,
   "name": "example_stein_importance_sampling.ipynb",
   "provenance": []
  },
  "kernelspec": {
   "display_name": "Python 3 (ipykernel)",
   "language": "python",
   "name": "python3"
  },
  "language_info": {
   "codemirror_mode": {
    "name": "ipython",
    "version": 3
   },
   "file_extension": ".py",
   "mimetype": "text/x-python",
   "name": "python",
   "nbconvert_exporter": "python",
   "pygments_lexer": "ipython3",
   "version": "3.7.9"
  },
  "vscode": {
   "interpreter": {
    "hash": "dea5f9174f2ea8bba73789457e0ab1bc9f3d5022c5c88994def1ff1cd626eea8"
   }
  }
 },
 "nbformat": 4,
 "nbformat_minor": 1
}
