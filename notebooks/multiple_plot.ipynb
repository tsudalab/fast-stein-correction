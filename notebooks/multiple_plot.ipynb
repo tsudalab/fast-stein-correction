{
 "cells": [
  {
   "attachments": {},
   "cell_type": "markdown",
   "metadata": {
    "colab_type": "text",
    "id": "view-in-github"
   },
   "source": [
    "<a href=\"https://colab.research.google.com/github/shibukawar/stein-importance-sampling-qa/blob/feature%2Fstein-importance-sampling/notebook/example_stein_importance_sampling.ipynb\" target=\"_parent\"><img src=\"https://colab.research.google.com/assets/colab-badge.svg\" alt=\"Open In Colab\"/></a>"
   ]
  },
  {
   "attachments": {},
   "cell_type": "markdown",
   "metadata": {
    "id": "_hRRwNzC3uNt"
   },
   "source": [
    "# Experiments on free energy and magnetization"
   ]
  },
  {
   "cell_type": "code",
   "execution_count": null,
   "metadata": {},
   "outputs": [],
   "source": [
    "import os\n",
    "os.chdir('../')"
   ]
  },
  {
   "cell_type": "code",
   "execution_count": null,
   "metadata": {
    "id": "kAQP36mEXjDM"
   },
   "outputs": [],
   "source": [
    "import matplotlib.pyplot as plt\n",
    "import numpy as np\n",
    "\n",
    "from stein.util import pload"
   ]
  },
  {
   "cell_type": "code",
   "execution_count": null,
   "metadata": {
    "tags": [
     "parameters"
    ]
   },
   "outputs": [],
   "source": [
    "annealing_time = 5\n",
    "annealing_time = float(annealing_time)\n",
    "PROBLEM_LIST = [\"GSD_8\", \"GSD_38\", \"GSD_F_6\"]\n",
    "target_temperature_list = [0.1, 0.2, 0.3, 0.4, 0.5, 0.6, 0.7, 0.8, 0.9, 1.0]"
   ]
  },
  {
   "cell_type": "code",
   "execution_count": null,
   "metadata": {},
   "outputs": [],
   "source": [
    "plt.style.use('seaborn-paper')\n",
    "fig, axs = plt.subplots(3, 3)\n",
    "fig.set_size_inches(20, 20)\n",
    "count = 0\n",
    "dat_list = ['energy', 'sus', 'u4']\n",
    "axs = axs.flat\n",
    "for k in dat_list:\n",
    "    for PROBLEM in PROBLEM_LIST:\n",
    "        ax = axs[count]\n",
    "        PROBLEM_DIR_PATH = f\"./problems/{PROBLEM}/\"\n",
    "        mcmc_path = os.path.join(PROBLEM_DIR_PATH, 'mcmc_2000.pickle.gz2')\n",
    "        mcmc_result = pload(mcmc_path)\n",
    "        mcmc = mcmc_result[k]\n",
    "        for i, target_temperature in enumerate(target_temperature_list):\n",
    "            path = os.path.join(PROBLEM_DIR_PATH, f\"raw_data_{annealing_time}_{target_temperature}.pickle.gz2\")\n",
    "            data = pload(path)\n",
    "            mcmc[i] = np.abs((mcmc[i] - data[k]['exact']) / data[k]['exact'])\n",
    "        mcmc_mean = np.nanmean(mcmc, axis=1)\n",
    "        mcmc_std = np.array([np.nanstd(a) for a in mcmc])\n",
    "        exact = []\n",
    "        emp, corr = [], []\n",
    "        emp_std, corr_std = [], []\n",
    "        for target_temperature in target_temperature_list:\n",
    "            path = os.path.join(PROBLEM_DIR_PATH, f\"raw_data_{annealing_time}_{target_temperature}.pickle.gz2\")\n",
    "            data = pload(path)\n",
    "            exv = data[k]['exact']\n",
    "            exact.append(data[k]['exact'])\n",
    "            emp_k_list = np.abs((np.array(data[k]['emp'][-1]) - exv) / exv)\n",
    "            emp.append(np.mean(emp_k_list))\n",
    "            emp_std.append(np.std(emp_k_list))\n",
    "            corr_k_list = np.abs((np.array(data[k]['corr'][-1]) - exv) / exv)\n",
    "            corr.append(np.mean(corr_k_list))\n",
    "            corr_std.append(np.std(corr_k_list))\n",
    "        emp = np.array(emp)\n",
    "        corr = np.array(corr)\n",
    "        emp_std = np.array(emp_std)\n",
    "        corr_std = np.array(corr_std)\n",
    "\n",
    "        ax.spines['right'].set_visible(False)\n",
    "        ax.spines['top'].set_visible(False)\n",
    "        ax.plot(target_temperature_list, mcmc_mean, 'o', linestyle='-', label='Metropolis')\n",
    "        ax.fill_between(target_temperature_list, mcmc_mean - mcmc_std, mcmc_mean + mcmc_std, alpha=.3)\n",
    "        ax.plot(target_temperature_list, emp, 'o', linestyle='-', label='QA')\n",
    "        ax.fill_between(target_temperature_list, emp - emp_std, emp + emp_std, alpha=.3)\n",
    "        ax.plot(target_temperature_list, corr, 'o', linestyle='-', label='QA + SIS')\n",
    "        ax.fill_between(target_temperature_list, corr- corr_std, corr + corr_std, alpha=.3)\n",
    "        ax.set_ylim(0)\n",
    "        ax.tick_params(axis='both', which='major', labelsize=15)\n",
    "        # if count == 2:\n",
    "        if k == 'energy':\n",
    "            ax.set_ylim(0, 2.2)\n",
    "        if k == 'sus':\n",
    "            ax.set_ylim(0, 1.6)\n",
    "        if k == 'u4':\n",
    "            ax.set_ylim(0, 7.5)\n",
    "        if k == 'energy' and count == 0:\n",
    "            ax.set_ylabel('Residual error\\n(energy)', fontsize=15)\n",
    "        if k == 'sus' and count == 3:\n",
    "            ax.set_ylabel('Residual error\\n(magnetic susceptibility)', fontsize=15)\n",
    "        if k == 'u4' and count == 6:\n",
    "            ax.set_ylabel('Residual error\\n(Binder cumulant)', fontsize=15)\n",
    "        if count in [0, 1, 2]:\n",
    "            ax.set_title(PROBLEM, fontsize=15)\n",
    "        # if count == 3:\n",
    "        # ax.legend(frameon=False,  bbox_to_anchor=(1.0,.8), fontsize=15)\n",
    "        # if count == 4:\n",
    "        if count in [6,7,8]:\n",
    "            ax.set_xlabel(r'Target $\\beta$', fontsize=15)\n",
    "        # ax.set_ylim(-30, -2.5)\n",
    "        count += 1\n",
    "plt.savefig(os.path.join('figures', 'beta_error.pdf'), bbox_inches='tight', pad_inches=0.1)\n",
    "plt.savefig(os.path.join('figures', 'beta_error.png'), bbox_inches='tight', pad_inches=0.1)\n",
    "plt.show()\n"
   ]
  },
  {
   "cell_type": "code",
   "execution_count": null,
   "metadata": {},
   "outputs": [],
   "source": [
    "plt.style.use('seaborn-paper')\n",
    "dat_list = ['energy', 'sus', 'u4']\n",
    "n_sample_list = [1000, 2000, 3000, 4000, 5000, 6000, 7000, 8000, 9000, 10000]\n",
    "for target_temperature in target_temperature_list:\n",
    "    count = 0\n",
    "    fig, axs = plt.subplots(3, 3)\n",
    "    axs = axs.flat\n",
    "    fig.set_size_inches(20, 20)\n",
    "    for k in dat_list:\n",
    "        for PROBLEM in PROBLEM_LIST:\n",
    "            ax = axs[count]\n",
    "            PROBLEM_DIR_PATH = f\"./problems/{PROBLEM}/\"\n",
    "            path = os.path.join(PROBLEM_DIR_PATH, f\"raw_data_{annealing_time}_{target_temperature}.pickle.gz2\")\n",
    "            data = pload(path)\n",
    "            exv = data[k]['exact']\n",
    "            exact = []\n",
    "            emp, corr = [], []\n",
    "            emp_std, corr_std = [], []\n",
    "            for i in range(len(n_sample_list)):\n",
    "                emp_k_list = np.abs((np.array(data[k]['emp'][i]) - exv) / exv)\n",
    "                emp.append(np.mean(emp_k_list))\n",
    "                emp_std.append(np.std(emp_k_list))\n",
    "                corr_k_list = np.abs((np.array(data[k]['corr'][i]) - exv) / exv)\n",
    "                corr.append(np.mean(corr_k_list))\n",
    "                corr_std.append(np.std(corr_k_list))\n",
    "            emp = np.array(emp)\n",
    "            corr = np.array(corr)\n",
    "            emp_std = np.array(emp_std)\n",
    "            corr_std = np.array(corr_std)\n",
    "\n",
    "            ax.spines['right'].set_visible(False)\n",
    "            ax.spines['top'].set_visible(False)\n",
    "            ax.plot(n_sample_list, emp, 'o', linestyle='-', label='QA')\n",
    "            ax.fill_between(n_sample_list, emp - emp_std, emp + emp_std, alpha=.3)\n",
    "            ax.plot(n_sample_list, corr, 'o', linestyle='-', label='QA + SIS')\n",
    "            ax.fill_between(n_sample_list, corr- corr_std, corr + corr_std, alpha=.3)\n",
    "            ax.set_ylim(0)\n",
    "            ax.tick_params(axis='both', which='major', labelsize=15)\n",
    "            # if count == 2:\n",
    "            if k == 'energy':\n",
    "                ax.set_ylim(0)\n",
    "            if k == 'sus':\n",
    "                ax.set_ylim(0)\n",
    "            if k == 'u4':\n",
    "                ax.set_ylim(0)\n",
    "            if k == 'energy' and count == 0:\n",
    "                ax.set_ylabel('Residual error\\n(energy)', fontsize=15)\n",
    "            if k == 'sus' and count == 3:\n",
    "                ax.set_ylabel('Residual error\\n(magnetic susceptibility)', fontsize=15)\n",
    "            if k == 'u4' and count == 6:\n",
    "                ax.set_ylabel('Residual error\\n(Binder cumulant)', fontsize=15)\n",
    "            if count in [0, 1, 2]:\n",
    "                ax.set_title(PROBLEM, fontsize=15)\n",
    "            # if count == 3:\n",
    "            # ax.legend(frameon=False,  bbox_to_anchor=(1.0,.8), fontsize=15)\n",
    "            # if count == 4:\n",
    "            ax.set_xticks([2000, 4000, 6000, 8000, 10000])\n",
    "            if count in [6,7,8]:\n",
    "                ax.set_xlabel('Num. of samples', fontsize=15)\n",
    "            # ax.set_ylim(-30, -2.5)\n",
    "            count += 1\n",
    "    plt.savefig(os.path.join('figures', f'n_sample_error_{target_temperature}.pdf'), bbox_inches='tight', pad_inches=0.1)\n",
    "    plt.savefig(os.path.join('figures', f'n_sample_error_{target_temperature}.png'), bbox_inches='tight', pad_inches=0.1)\n",
    "    plt.show()\n"
   ]
  },
  {
   "cell_type": "code",
   "execution_count": null,
   "metadata": {},
   "outputs": [],
   "source": []
  }
 ],
 "metadata": {
  "colab": {
   "authorship_tag": "ABX9TyPJUCLXegTIt3GI+mwwFcew",
   "background_execution": "on",
   "include_colab_link": true,
   "name": "example_stein_importance_sampling.ipynb",
   "provenance": []
  },
  "kernelspec": {
   "display_name": "Python 3 (ipykernel)",
   "language": "python",
   "name": "python3"
  },
  "language_info": {
   "codemirror_mode": {
    "name": "ipython",
    "version": 3
   },
   "file_extension": ".py",
   "mimetype": "text/x-python",
   "name": "python",
   "nbconvert_exporter": "python",
   "pygments_lexer": "ipython3",
   "version": "3.7.9"
  },
  "vscode": {
   "interpreter": {
    "hash": "dea5f9174f2ea8bba73789457e0ab1bc9f3d5022c5c88994def1ff1cd626eea8"
   }
  }
 },
 "nbformat": 4,
 "nbformat_minor": 1
}
