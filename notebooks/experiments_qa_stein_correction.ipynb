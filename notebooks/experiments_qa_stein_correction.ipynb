{
 "cells": [
  {
   "attachments": {},
   "cell_type": "markdown",
   "metadata": {
    "colab_type": "text",
    "id": "view-in-github"
   },
   "source": [
    "<a href=\"https://colab.research.google.com/github/shibukawar/stein-importance-sampling-qa/blob/feature%2Fstein-importance-sampling/notebook/example_stein_importance_sampling.ipynb\" target=\"_parent\"><img src=\"https://colab.research.google.com/assets/colab-badge.svg\" alt=\"Open In Colab\"/></a>"
   ]
  },
  {
   "cell_type": "code",
   "execution_count": null,
   "metadata": {},
   "outputs": [],
   "source": [
    "import os\n",
    "\n",
    "os.chdir(\"../\")"
   ]
  },
  {
   "cell_type": "code",
   "execution_count": null,
   "metadata": {
    "id": "kAQP36mEXjDM"
   },
   "outputs": [],
   "source": [
    "import time\n",
    "from collections import defaultdict\n",
    "from csv import writer\n",
    "\n",
    "import matplotlib.pyplot as plt\n",
    "import numpy as np\n",
    "from dimod.vartypes import Vartype\n",
    "from dotenv import dotenv_values\n",
    "from dwave.system.composites import FixedEmbeddingComposite\n",
    "from dwave.system.samplers import DWaveSampler\n",
    "from minorminer import find_embedding\n",
    "from tqdm import tqdm\n",
    "\n",
    "import stein.config as CONF\n",
    "from stein.energy import create_hamiltonian\n",
    "from stein.kernel import KernelType, hamming_kernel\n",
    "from stein.ksd import DiscreteKSD\n",
    "from stein.stats import (EmpiricalDistribution, GibbsDistribution,\n",
    "                         create_empirical_distribution)\n",
    "from stein.util import (dwave_sampling, flatten_sampleset, pdump, pload,\n",
    "                        read_from_file, scale_J_h)\n"
   ]
  },
  {
   "cell_type": "code",
   "execution_count": null,
   "metadata": {
    "tags": [
     "parameters"
    ]
   },
   "outputs": [],
   "source": [
    "target_temperature = 0.1\n",
    "annealing_time = 5\n",
    "PROBLEM = \"GSD_8\"\n",
    "gauge_interval = 100"
   ]
  },
  {
   "cell_type": "code",
   "execution_count": null,
   "metadata": {},
   "outputs": [],
   "source": [
    "# convert injected parameters into desired type\n",
    "dim = 16\n",
    "target_temperature = float(target_temperature)\n",
    "annealing_time = float(annealing_time)\n",
    "gauge_interval = int(gauge_interval)\n",
    "# const valuable\n",
    "ENDPOINT = CONF.ENDPOINT\n",
    "\n",
    "config = dotenv_values(\".env\")\n",
    "TOKEN = config['TOKEN']\n",
    "SOLVER = CONF.SOLVER\n",
    "PROBLEM_DIR_PATH = f\"./problems/{PROBLEM}/\"\n",
    "\n",
    "J, h = read_from_file(PROBLEM_DIR_PATH)\n",
    "hamiltonian = create_hamiltonian(J, h)\n",
    "J, h = scale_J_h(J, h, alpha_in=target_temperature)\n",
    "# Set up dwave sampler\n",
    "sampler = DWaveSampler(endpoint=ENDPOINT, token=TOKEN, solver=SOLVER)\n",
    "edges = list(J.keys())"
   ]
  },
  {
   "attachments": {},
   "cell_type": "markdown",
   "metadata": {
    "id": "bNRNsmxfD-9_"
   },
   "source": [
    "# Define a target distribution"
   ]
  },
  {
   "cell_type": "code",
   "execution_count": null,
   "metadata": {},
   "outputs": [],
   "source": [
    "target_temp_dict = defaultdict(list)"
   ]
  },
  {
   "cell_type": "code",
   "execution_count": null,
   "metadata": {},
   "outputs": [],
   "source": [
    "J, h = read_from_file(PROBLEM_DIR_PATH)\n",
    "J, h = scale_J_h(J, h, alpha_in=target_temperature)\n",
    "print(h, J)\n",
    "edges = np.array(list(J.keys()))\n",
    "n_sample_list = [1000, 2000, 3000, 4000, 5000, 6000, 7000, 8000, 9000, 10000]\n",
    "path = os.path.join(\n",
    "    PROBLEM_DIR_PATH,\n",
    "    f\"samples_{annealing_time}_{target_temperature}.pickle.bz2\",\n",
    ")\n",
    "if not os.path.exists(path):\n",
    "    for i in range(5):\n",
    "        for _ in range(5):\n",
    "            try:\n",
    "                embeddings = find_embedding(edges, sampler.edgelist)\n",
    "                print(\"Found!!!\")\n",
    "                break\n",
    "            except ValueError:\n",
    "                print(\"Not found!!!\")\n",
    "                pass\n",
    "        sampler = FixedEmbeddingComposite(sampler, embeddings)\n",
    "        for n_sample in n_sample_list:\n",
    "            samples = dwave_sampling(\n",
    "                sampler,\n",
    "                h,\n",
    "                J,\n",
    "                annealing_time=annealing_time,\n",
    "                iter_num=int(int(n_sample) / gauge_interval),\n",
    "                gauge_interval=gauge_interval,\n",
    "            )\n",
    "            target_temp_dict[n_sample].append(samples)\n",
    "    pdump(path, target_temp_dict)\n",
    "else:\n",
    "    print(f\"{path} already exists.\")\n",
    "    target_temp_dict = pload(path)"
   ]
  },
  {
   "cell_type": "code",
   "execution_count": null,
   "metadata": {},
   "outputs": [],
   "source": [
    "import sqlite3\n",
    "\n",
    "con = sqlite3.connect(\"experiments.db\")\n",
    "cur = con.cursor()\n",
    "cur.execute(\n",
    "    f\"SELECT energy from exact_free_energy WHERE problem = '{PROBLEM}' and beta={target_temperature}\"\n",
    ")\n",
    "exact_free_energy = cur.fetchone()[0]\n",
    "cur.execute(\n",
    "    f\"SELECT m2, m4 from exact_m2_m4 WHERE problem = '{PROBLEM}' and beta={target_temperature}\"\n",
    ")\n",
    "exact_m2, exact_m4 = cur.fetchone()\n",
    "cur.execute(\n",
    "    f\"SELECT susceptibility from exact_susceptibility WHERE problem = '{PROBLEM}' and beta={target_temperature}\"\n",
    ")\n",
    "exact_susceptibility = cur.fetchone()[0]\n",
    "con.commit()\n",
    "con.close()\n",
    "exact_squared_mag = exact_free_energy / target_temperature\n",
    "exact_u4 = 1 - exact_m4 / (3 * exact_m2**2)"
   ]
  },
  {
   "cell_type": "code",
   "execution_count": null,
   "metadata": {},
   "outputs": [],
   "source": [
    "weight_path = os.path.join(\n",
    "    PROBLEM_DIR_PATH,\n",
    "    f\"weights_{annealing_time}_{target_temperature}.pickle.bz2\",\n",
    ")"
   ]
  },
  {
   "cell_type": "code",
   "execution_count": null,
   "metadata": {},
   "outputs": [],
   "source": [
    "ene_emp_list = []\n",
    "ene_corr_list = []\n",
    "u4_emp_list = []\n",
    "u4_corr_list = []\n",
    "susceptibility_emp_list = []\n",
    "susceptibility_corr_list = []\n",
    "weight_dict = defaultdict(list)\n",
    "compute_ksd = True\n",
    "if os.path.exists(weight_path):\n",
    "    compute_ksd = False\n",
    "    weight_dict = pload(weight_path)\n",
    "for n_sample in n_sample_list:\n",
    "    print(\n",
    "        f\"n_sample: {n_sample}, unique: {[len(sample) for sample in target_temp_dict[n_sample]]}\"\n",
    "    )\n",
    "    enes_emp = []\n",
    "    enes_corr = []\n",
    "    u4_emp = []\n",
    "    u4_corr = []\n",
    "    susceptibility_emp = []\n",
    "    susceptibility_corr = []\n",
    "    for count, sample in enumerate(target_temp_dict[n_sample]):\n",
    "        emp_dist = create_empirical_distribution(sample)\n",
    "        emp_energy = 0\n",
    "        emp_m2 = 0\n",
    "        emp_m4 = 0\n",
    "        emp_susceptibility = 0\n",
    "        for x in sample.record[\"sample\"]:\n",
    "            m = sum(x)\n",
    "            emp_energy += hamiltonian(x) * emp_dist.pmf(x)\n",
    "            emp_m2 += emp_dist.pmf(x) * m**2\n",
    "            emp_m4 += emp_dist.pmf(x) * m**4\n",
    "            emp_susceptibility += emp_dist.pmf(x) * m**2 * target_temperature\n",
    "        emp_u4 = 1 - emp_m4 / (3 * emp_m2**2)\n",
    "        enes_emp.append(emp_energy)\n",
    "        u4_emp.append(emp_u4)\n",
    "        susceptibility_emp.append(emp_susceptibility)\n",
    "\n",
    "        weights = None\n",
    "        if compute_ksd is True:\n",
    "            trg = GibbsDistribution(hamiltonian, target_temperature, 16, False)\n",
    "            ksd = DiscreteKSD(\n",
    "                dim=dim,\n",
    "                kernel_type=KernelType.Hamming,\n",
    "                distrib=trg,\n",
    "                vartype=Vartype.SPIN,\n",
    "            )\n",
    "            s = time.time()\n",
    "            ksd.X_stein_basis = ksd.compute_KP_basis(\n",
    "                sample.record[\"sample\"], feature_dim=5000\n",
    "            )\n",
    "            t = time.time()\n",
    "            print(f\"Elapesed time for kernel computation: {t-s} sec.\")\n",
    "            print(\"Finish computing kernel.\")\n",
    "            s = time.time()\n",
    "            ksd.fit_egd(\n",
    "                sample.record[\"sample\"], n_iter=2000, eta=1e-5, feature_dim=5000\n",
    "            )\n",
    "            t = time.time()\n",
    "            print(f\"Elapesed time for fit: {t-s} sec.\")\n",
    "            weights = ksd.weight\n",
    "            weight_dict[n_sample].append(weights)\n",
    "        else:\n",
    "            weights = weight_dict[n_sample][count]\n",
    "        corr_energy = 0\n",
    "        corr_m2, corr_m4 = 0, 0\n",
    "        corr_susceptibility = 0\n",
    "        for x, w in zip(sample.record[\"sample\"], weights):\n",
    "            m = sum(x)\n",
    "            corr_energy += hamiltonian(x) * w\n",
    "            corr_susceptibility += m**2 * w * target_temperature\n",
    "            corr_m2 += w * m**2\n",
    "            corr_m4 += w * m**4\n",
    "        corr_u4 = 1 - corr_m4 / (3 * corr_m2**2)\n",
    "        enes_corr.append(corr_energy)\n",
    "        u4_corr.append(corr_u4)\n",
    "        susceptibility_corr.append(corr_susceptibility)\n",
    "        # print(emp_energy, corr_energy)\n",
    "        # print(emp_u4, corr_u4)\n",
    "        # print(emp_susceptibility, corr_susceptibility)\n",
    "    ene_emp_list.append(enes_emp)\n",
    "    ene_corr_list.append(enes_corr)\n",
    "    u4_emp_list.append(u4_emp)\n",
    "    u4_corr_list.append(u4_corr)\n",
    "    susceptibility_emp_list.append(susceptibility_emp)\n",
    "    susceptibility_corr_list.append(susceptibility_corr)\n",
    "if compute_ksd is True:\n",
    "    pdump(weight_path, weight_dict)"
   ]
  },
  {
   "cell_type": "code",
   "execution_count": null,
   "metadata": {},
   "outputs": [],
   "source": [
    "def plot(emp_list, corr_list, exact, prefix=\"energy\", top=0.6):\n",
    "    emp_list = np.array(emp_list)\n",
    "    corr_list = np.array(corr_list)\n",
    "    res_loss1 = np.abs(emp_list - exact) / np.abs(exact)\n",
    "    res_loss2 = np.abs(corr_list - exact) / np.abs(exact)\n",
    "    res1 = np.mean(res_loss1, axis=1)\n",
    "    res2 = np.mean(res_loss2, axis=1)\n",
    "    std1 = np.std(res_loss1, axis=1)\n",
    "    std2 = np.std(res_loss2, axis=1)\n",
    "\n",
    "    plt.style.use(\"seaborn-paper\")\n",
    "    _, ax = plt.subplots()\n",
    "    ax.spines[\"right\"].set_visible(False)\n",
    "    ax.spines[\"top\"].set_visible(False)\n",
    "    ax.errorbar(n_sample_list, res1, std1, marker=\"*\", label=\"Empirical\")\n",
    "    ax.errorbar(n_sample_list, res2, std2, marker=\"o\", label=\"Stein\")\n",
    "    ax.set_ylabel(\"Residual error\", fontsize=15)\n",
    "    ax.set_xlabel(\"Sample size\", fontsize=15)\n",
    "    ax.set_ylim(bottom=0, top=top)\n",
    "    ax.set_xticks(n_sample_list, n_sample_list)\n",
    "    ax.legend(frameon=False, bbox_to_anchor=(1.0, 1.0), fontsize=15)\n",
    "    plt.savefig(\n",
    "        os.path.join(\n",
    "            PROBLEM_DIR_PATH, f\"{prefix}_{annealing_time}_{target_temperature}.png\"\n",
    "        ),\n",
    "        bbox_inches=\"tight\",\n",
    "    )\n",
    "    plt.savefig(\n",
    "        os.path.join(\n",
    "            PROBLEM_DIR_PATH, f\"{prefix}_{annealing_time}_{target_temperature}.pdf\"\n",
    "        ),\n",
    "        bbox_inches=\"tight\",\n",
    "    )"
   ]
  },
  {
   "cell_type": "code",
   "execution_count": null,
   "metadata": {},
   "outputs": [],
   "source": [
    "ene_emp_list = np.array(ene_emp_list)\n",
    "ene_corr_list = np.array(ene_corr_list)\n",
    "plot(ene_emp_list, ene_corr_list, exact_free_energy, \"energy\", 1.0)"
   ]
  },
  {
   "cell_type": "code",
   "execution_count": null,
   "metadata": {},
   "outputs": [],
   "source": [
    "plot(\n",
    "    susceptibility_emp_list,\n",
    "    susceptibility_corr_list,\n",
    "    exact_susceptibility,\n",
    "    \"susceptibility\",\n",
    "    0.6,\n",
    ")"
   ]
  },
  {
   "cell_type": "code",
   "execution_count": null,
   "metadata": {},
   "outputs": [],
   "source": [
    "plot(u4_emp_list, u4_corr_list, exact_u4, \"u4\", 2.5)"
   ]
  },
  {
   "cell_type": "code",
   "execution_count": null,
   "metadata": {},
   "outputs": [],
   "source": [
    "data = {}\n",
    "data[\"energy\"] = {}\n",
    "data[\"energy\"][\"exact\"] = exact_free_energy\n",
    "data[\"energy\"][\"emp\"] = ene_emp_list\n",
    "data[\"energy\"][\"corr\"] = ene_corr_list\n",
    "data[\"u4\"] = {}\n",
    "data[\"u4\"][\"exact\"] = exact_u4\n",
    "data[\"u4\"][\"emp\"] = u4_emp_list\n",
    "data[\"u4\"][\"corr\"] = u4_corr_list\n",
    "data[\"sus\"] = {}\n",
    "data[\"sus\"][\"exact\"] = exact_susceptibility\n",
    "data[\"sus\"][\"emp\"] = susceptibility_emp_list\n",
    "data[\"sus\"][\"corr\"] = susceptibility_corr_list\n",
    "path = os.path.join(\n",
    "    PROBLEM_DIR_PATH, f\"raw_data_{annealing_time}_{target_temperature}.pickle.gz2\"\n",
    ")\n",
    "pdump(path, data)"
   ]
  }
 ],
 "metadata": {
  "colab": {
   "authorship_tag": "ABX9TyPJUCLXegTIt3GI+mwwFcew",
   "background_execution": "on",
   "include_colab_link": true,
   "name": "example_stein_importance_sampling.ipynb",
   "provenance": []
  },
  "kernelspec": {
   "display_name": "Python 3 (ipykernel)",
   "language": "python",
   "name": "python3"
  },
  "language_info": {
   "codemirror_mode": {
    "name": "ipython",
    "version": 3
   },
   "file_extension": ".py",
   "mimetype": "text/x-python",
   "name": "python",
   "nbconvert_exporter": "python",
   "pygments_lexer": "ipython3",
   "version": "3.11.0"
  },
  "vscode": {
   "interpreter": {
    "hash": "dea5f9174f2ea8bba73789457e0ab1bc9f3d5022c5c88994def1ff1cd626eea8"
   }
  }
 },
 "nbformat": 4,
 "nbformat_minor": 1
}
