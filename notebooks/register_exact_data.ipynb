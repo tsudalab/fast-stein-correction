{
 "cells": [
  {
   "attachments": {},
   "cell_type": "markdown",
   "metadata": {
    "colab_type": "text",
    "id": "view-in-github"
   },
   "source": [
    "<a href=\"https://colab.research.google.com/github/shibukawar/stein-importance-sampling-qa/blob/feature%2Fstein-importance-sampling/notebook/example_stein_importance_sampling.ipynb\" target=\"_parent\"><img src=\"https://colab.research.google.com/assets/colab-badge.svg\" alt=\"Open In Colab\"/></a>"
   ]
  },
  {
   "attachments": {},
   "cell_type": "markdown",
   "metadata": {
    "id": "_hRRwNzC3uNt"
   },
   "source": [
    "# Experiments on free energy and magnetization"
   ]
  },
  {
   "cell_type": "code",
   "execution_count": null,
   "metadata": {},
   "outputs": [],
   "source": [
    "import os\n",
    "\n",
    "os.chdir(\"../\")"
   ]
  },
  {
   "cell_type": "code",
   "execution_count": null,
   "metadata": {
    "id": "kAQP36mEXjDM"
   },
   "outputs": [],
   "source": [
    "import numpy as np\n",
    "\n",
    "import sqlite3\n",
    "\n",
    "from stein.energy import create_hamiltonian\n",
    "from stein.util import read_from_file"
   ]
  },
  {
   "cell_type": "code",
   "execution_count": null,
   "metadata": {
    "tags": [
     "parameters"
    ]
   },
   "outputs": [],
   "source": [
    "PROBLEM = \"GSD_6\""
   ]
  },
  {
   "cell_type": "code",
   "execution_count": null,
   "metadata": {},
   "outputs": [],
   "source": [
    "PROBLEM_DIR_PATH = f\"./problems/{PROBLEM}/\"\n",
    "\n",
    "J, h = read_from_file(PROBLEM_DIR_PATH)\n",
    "hamiltonian = create_hamiltonian(J, h)"
   ]
  },
  {
   "attachments": {},
   "cell_type": "markdown",
   "metadata": {
    "id": "bNRNsmxfD-9_"
   },
   "source": [
    "# Define a target distribution"
   ]
  },
  {
   "cell_type": "code",
   "execution_count": null,
   "metadata": {},
   "outputs": [],
   "source": [
    "init_table = False\n",
    "if not os.path.exists('experiments.db'):\n",
    "    init_table = True\n",
    "con = sqlite3.connect(\"experiments.db\")\n",
    "\n",
    "if init_table is True:\n",
    "    cur = con.cursor()\n",
    "    cur.execute(\"CREATE TABLE exact_free_energy(problem, beta, energy)\")\n",
    "    cur.execute(\"CREATE TABLE exact_magnetization(problem, beta, magnetization)\")\n",
    "    cur.execute(\"CREATE TABLE exact_susceptibility(problem, beta, susceptibility)\")\n",
    "    cur.execute(\"CREATE TABLE exact_m2_m4(problem, beta, m2, m4)\")\n",
    "    con.commit()\n",
    "    con.close()"
   ]
  },
  {
   "cell_type": "code",
   "execution_count": null,
   "metadata": {},
   "outputs": [],
   "source": [
    "def m2_m4(beta, hamiltonian):\n",
    "    dim = 16\n",
    "    exact_m2, exact_m4 = 0, 0\n",
    "    Z = 0\n",
    "    for n in range(2**dim):\n",
    "        b = np.binary_repr(n, width=dim)\n",
    "        sigma = np.array(list(map(lambda x: 2 * int(x) - 1, list(b))))\n",
    "        energy = hamiltonian(sigma)\n",
    "        exact_m4 *= Z\n",
    "        exact_m2 *= Z\n",
    "        Z += np.exp(-beta * energy)\n",
    "        exact_m4 += sum(sigma) ** 4 * np.exp(-beta * energy)\n",
    "        exact_m2 += sum(sigma) ** 2 * np.exp(-beta * energy)\n",
    "        exact_m4 /= Z\n",
    "        exact_m2 /= Z\n",
    "    return exact_m2, exact_m4\n",
    "\n",
    "\n",
    "print(PROBLEM)\n",
    "# for beta in np.arange(0.1, 1.1, 0.1):\n",
    "for beta in [0.1, 0.2, 0.3, 0.4, 0.5, 0.6, 0.7, 0.8, 0.9, 1.0]:\n",
    "    beta = float(beta)\n",
    "    print(beta)\n",
    "    m2, m4 = m2_m4(beta, hamiltonian)\n",
    "    con = sqlite3.connect(\"experiments.db\")\n",
    "    cur = con.cursor()\n",
    "    cur.execute(\n",
    "        f\"INSERT INTO exact_m2_m4(problem, beta, m2, m4) VALUES(?, ?, ?, ?)\",\n",
    "        (PROBLEM, beta, m2, m4),\n",
    "    )\n",
    "    con.commit()\n",
    "    con.close()"
   ]
  },
  {
   "cell_type": "code",
   "execution_count": null,
   "metadata": {},
   "outputs": [],
   "source": [
    "def ene_and_mag(beta, hamiltonian):\n",
    "    dim = 16\n",
    "    exact_free_energy = 0\n",
    "    exact_mag = 0\n",
    "    exact_susceptibility = 0\n",
    "    Z = 0\n",
    "    for n in range(2**dim):\n",
    "        b = np.binary_repr(n, width=dim)\n",
    "        sigma = np.array(list(map(lambda x: 2 * int(x) - 1, list(b))))\n",
    "        energy = hamiltonian(sigma)\n",
    "        exact_free_energy *= Z\n",
    "        exact_mag *= Z\n",
    "        exact_susceptibility *= Z\n",
    "        Z += np.exp(-beta * energy)\n",
    "        exact_free_energy += energy * np.exp(-beta * energy)\n",
    "        exact_free_energy /= Z\n",
    "        exact_mag += sum(sigma) * np.exp(-beta * energy) / dim\n",
    "        exact_susceptibility += sum(sigma) ** 2 * beta * np.exp(-beta * energy)\n",
    "        exact_mag /= Z\n",
    "        exact_susceptibility /= Z\n",
    "    return exact_free_energy, exact_mag, exact_susceptibility\n",
    "\n",
    "\n",
    "# for beta in np.arange(0.1, 1.1, 0.1):\n",
    "for beta in [0.1, 0.2, 0.3, 0.4, 0.5, 0.6, 0.7, 0.8, 0.9, 1.0]:\n",
    "    beta = float(beta)\n",
    "    print(beta)\n",
    "    ene, mag, s = ene_and_mag(beta, hamiltonian)\n",
    "    con = sqlite3.connect(\"experiments.db\")\n",
    "    cur = con.cursor()\n",
    "    cur.execute(\n",
    "        f\"INSERT INTO exact_free_energy(problem, beta, energy) VALUES(?, ?, ?)\",\n",
    "        (PROBLEM, beta, ene),\n",
    "    )\n",
    "    cur.execute(\n",
    "        f\"INSERT INTO exact_magnetization(problem, beta, magnetization) VALUES(?, ?, ?)\",\n",
    "        (PROBLEM, beta, mag),\n",
    "    )\n",
    "    cur.execute(\n",
    "        f\"INSERT INTO exact_susceptibility(problem, beta, susceptibility) VALUES(?, ?, ?)\",\n",
    "        (PROBLEM, beta, s),\n",
    "    )\n",
    "    con.commit()\n",
    "    con.close()"
   ]
  },
  {
   "cell_type": "code",
   "execution_count": null,
   "metadata": {},
   "outputs": [],
   "source": []
  }
 ],
 "metadata": {
  "colab": {
   "authorship_tag": "ABX9TyPJUCLXegTIt3GI+mwwFcew",
   "background_execution": "on",
   "include_colab_link": true,
   "name": "example_stein_importance_sampling.ipynb",
   "provenance": []
  },
  "kernelspec": {
   "display_name": "Python 3 (ipykernel)",
   "language": "python",
   "name": "python3"
  },
  "language_info": {
   "codemirror_mode": {
    "name": "ipython",
    "version": 3
   },
   "file_extension": ".py",
   "mimetype": "text/x-python",
   "name": "python",
   "nbconvert_exporter": "python",
   "pygments_lexer": "ipython3",
   "version": "3.7.9"
  },
  "vscode": {
   "interpreter": {
    "hash": "dea5f9174f2ea8bba73789457e0ab1bc9f3d5022c5c88994def1ff1cd626eea8"
   }
  }
 },
 "nbformat": 4,
 "nbformat_minor": 1
}
